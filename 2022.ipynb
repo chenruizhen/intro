{
 "cells": [
  {
   "cell_type": "markdown",
   "id": "3af150ce",
   "metadata": {
    "deletable": false
   },
   "source": [
    "# Exam 2021, 8.00-13.00 for the course 1MS041 (Introduction to Data Science / Introduktion till dataanalys)\n",
    "\n",
    "## Instructions:\n",
    "1. Complete the problems by following instructions.\n",
    "2. When done, submit this file with your solutions saved, following the instruction sheet.\n",
    "\n",
    "This exam has 3 problems for a total of 40 points, to pass you need\n",
    "20 points.\n",
    "\n",
    "## Some general hints and information:\n",
    "* Try to answer all questions even if you are uncertain.\n",
    "* Comment your code, so that if you get the wrong answer I can understand how you thought\n",
    "this can give you some points even though the code does not run.\n",
    "* Follow the instruction sheet rigorously.\n",
    "* This exam is partially autograded, but your code and your free text answers are manually graded anonymously.\n",
    "* If there are any questions, please ask the exam guards, they will escalate it to me if necessary.\n",
    "* I (Benny) will visit the exam room at around 10:30 to see if there are any questions.\n",
    "\n",
    "## Tips for free text answers\n",
    "* Be VERY clear with your reasoning, there should be zero ambiguity in what you are referring to.\n",
    "* If you want to include math, you can write LaTeX in the Markdown cells, for instance `$f(x)=x^2$` will be rendered as $f(x)=x^2$ and `$$f(x) = x^2$$` will become an equation line, as follows\n",
    "$$f(x) = x^2$$\n",
    "Another example is `$$f_{Y \\mid X}(y,x) = P(Y = y \\mid X = x) = \\exp(\\alpha \\cdot x + \\beta)$$` which renders as\n",
    "$$f_{Y \\mid X}(y,x) = P(Y = y \\mid X = x) = \\exp(\\alpha \\cdot x + \\beta)$$\n",
    "\n",
    "## Finally some rules:\n",
    "* You may not communicate with others during the exam, for example:\n",
    "    * You cannot ask for help in Stack-Overflow or other such help forums during the Exam.\n",
    "    * You may not communicate with AI's, for instance ChatGPT.\n",
    "    * Your on-line and off-line activity is being monitored according to the examination rules.\n",
    "\n",
    "## Good luck!"
   ]
  },
  {
   "cell_type": "code",
   "execution_count": null,
   "id": "6a87c0aa",
   "metadata": {
    "deletable": false
   },
   "outputs": [],
   "source": [
    "# Insert your anonymous exam ID as a string in the variable below\n",
    "examID=\"XXX\"\n"
   ]
  },
  {
   "cell_type": "markdown",
   "id": "7e0803f8",
   "metadata": {
    "deletable": false,
    "lx_assignment_number": "vB",
    "lx_assignment_type": "EXAM",
    "lx_assignment_type2print": "Exam",
    "lx_problem_cell_type": "PROBLEM",
    "lx_problem_number": "1",
    "lx_problem_points": "8"
   },
   "source": [
    "---\n",
    "## Exam vB, PROBLEM 1\n",
    "Maximum Points = 8"
   ]
  },
  {
   "cell_type": "markdown",
   "id": "58c0b006",
   "metadata": {
    "deletable": false,
    "lx_assignment_number": "vB",
    "lx_assignment_type": "EXAM",
    "lx_assignment_type2print": "Exam",
    "lx_problem_cell_type": "PROBLEM",
    "lx_problem_number": "1",
    "lx_problem_points": "8"
   },
   "source": [
    "\n",
    "## Probability warmup\n",
    "Let's say we have an exam question which consists of $20$ yes/no questions. \n",
    "From past performance of similar students, a randomly chosen student will know the correct answer to $N \\sim \\text{binom}(20,11/20)$ questions. Furthermore, we assume that the student will guess the answer with equal probability to each question they don't know the answer to, i.e. given $N$ we define $Z \\sim \\text{binom}(20-N,1/2)$ as the number of correctly guessed answers. Define $Y = N + Z$, i.e., $Y$ represents the number of total correct answers.\n",
    "\n",
    "We are interested in setting a deterministic threshold $T$, i.e., we would pass a student at threshold $T$ if $Y \\geq T$. Here $T \\in \\{0,1,2,\\ldots,20\\}$.\n",
    "\n",
    "1. [5p] For each threshold $T$, compute the probability that the student *knows* less than $10$ correct answers given that the student passed, i.e., $N < 10$. Put the answer in `problem11_probabilities` as a list.\n",
    "2. [3p] What is the smallest value of $T$ such that if $Y \\geq T$ then we are 90\\% certain that $N \\geq 10$?"
   ]
  },
  {
   "cell_type": "code",
   "execution_count": null,
   "id": "ee1990ab",
   "metadata": {
    "deletable": false,
    "lx_assignment_number": "vB",
    "lx_assignment_type": "EXAM",
    "lx_assignment_type2print": "Exam",
    "lx_problem_cell_type": "PROBLEM",
    "lx_problem_number": "1",
    "lx_problem_points": "8"
   },
   "outputs": [],
   "source": [
    "\n",
    "# Hint the PMF of N is p_N(k) where p_N is\n",
    "p = 11/20\n",
    "p_N = lambda k: binomial(20,k)*(1-p)^(20-k)*(p)^k"
   ]
  },
  {
   "cell_type": "code",
   "execution_count": 6,
   "id": "c7388978",
   "metadata": {},
   "outputs": [
    {
     "data": {
      "text/plain": [
       "array([1.15944533e-07, 2.83419969e-06, 3.29082076e-05, 2.41326855e-04,\n",
       "       1.25355894e-03, 4.90280831e-03, 1.49808032e-02, 3.66197411e-02,\n",
       "       7.27308747e-02, 1.18524388e-01, 1.59349455e-01, 1.77054951e-01,\n",
       "       1.62300371e-01, 1.22072074e-01, 7.45996009e-02, 3.64709160e-02,\n",
       "       1.39298637e-02, 4.00597389e-03, 8.16031718e-04, 1.04986537e-04,\n",
       "       6.41584392e-06])"
      ]
     },
     "execution_count": 6,
     "metadata": {},
     "output_type": "execute_result"
    }
   ],
   "source": [
    "P_N = binom.pmf(np.arange(n_questions + 1), n_questions, p_know)\n",
    "P_N"
   ]
  },
  {
   "cell_type": "code",
   "execution_count": 1,
   "id": "21189865",
   "metadata": {
    "deletable": false,
    "lx_assignment_number": "vB",
    "lx_assignment_type": "EXAM",
    "lx_assignment_type2print": "Exam",
    "lx_problem_cell_type": "PROBLEM",
    "lx_problem_number": "1",
    "lx_problem_points": "8"
   },
   "outputs": [
    {
     "name": "stderr",
     "output_type": "stream",
     "text": [
      "<frozen importlib._bootstrap>:228: RuntimeWarning: scipy._lib.messagestream.MessageStream size changed, may indicate binary incompatibility. Expected 56 from C header, got 64 from PyObject\n"
     ]
    },
    {
     "data": {
      "text/plain": [
       "[0.24928935982841188,\n",
       " 0.2492893598283289,\n",
       " 0.24928935982261052,\n",
       " 0.24928935963549284,\n",
       " 0.2492893557683934,\n",
       " 0.24928929915834971,\n",
       " 0.24928867518930253,\n",
       " 0.2492833020795846,\n",
       " 0.24924628523366027,\n",
       " 0.2490390263029906,\n",
       " 0.2480856990043144,\n",
       " 0.24460820014975937,\n",
       " 0.2349439695781524,\n",
       " 0.21475641513175917,\n",
       " 0.18267139196621002,\n",
       " 0.1427252244707205,\n",
       " 0.10227042692681916,\n",
       " 0.0676280995056458,\n",
       " 0.04166472439122745,\n",
       " 0.024151134340423378,\n",
       " 0.013287462679601613]"
      ]
     },
     "execution_count": 1,
     "metadata": {},
     "output_type": "execute_result"
    }
   ],
   "source": [
    "\n",
    "# Part 1: \n",
    "# replace XXX to represent P(N < 10) for T = [0,1,2,...,20], i.e. your answer should be a list\n",
    "# of length 21.\n",
    "# problem11_probabilities = [XXX,XXX,...,XXX]\n",
    "\n",
    "import numpy as np\n",
    "from scipy.stats import binom\n",
    "\n",
    "# 定义参数\n",
    "n_questions = 20\n",
    "p_know = 11 / 20\n",
    "thresholds = range(21)\n",
    "\n",
    "# 计算 P(N = n) 对于 n = 0 到 20\n",
    "P_N = binom.pmf(np.arange(n_questions + 1), n_questions, p_know)\n",
    "\n",
    "def P_Y_given_N(T, N):\n",
    "    if T > N:\n",
    "        return 1 - binom.cdf(T - N - 1, n_questions - N, 0.5)\n",
    "    else:\n",
    "        return 1.0\n",
    "\n",
    "# 计算 P(Y >= T)\n",
    "P_Y_ge_T = []\n",
    "for T in thresholds:\n",
    "    P_Y_ge_T_T = sum(P_Y_given_N(T, N) * P_N[N] for N in range(n_questions + 1))\n",
    "    P_Y_ge_T.append(P_Y_ge_T_T)\n",
    "\n",
    "# 计算 P(N < 10 且 Y >= T)\n",
    "P_N_lt_10_and_Y_ge_T = []\n",
    "for T in thresholds:\n",
    "    P_N_lt_10_and_Y_ge_T_T = sum(P_Y_given_N(T, N) * P_N[N] for N in range(10))\n",
    "    P_N_lt_10_and_Y_ge_T.append(P_N_lt_10_and_Y_ge_T_T)\n",
    "\n",
    "# 计算 P(N < 10 | Y >= T)\n",
    "P_N_lt_10_given_Y_ge_T = [P_N_lt_10_and_Y_ge_T[T] / P_Y_ge_T[T] for T in thresholds]\n",
    "\n",
    "# 输出结果\n",
    "problem11_probabilities = P_N_lt_10_given_Y_ge_T\n",
    "problem11_probabilities\n"
   ]
  },
  {
   "cell_type": "code",
   "execution_count": 2,
   "id": "fbdf94f0",
   "metadata": {
    "deletable": false,
    "lx_assignment_number": "vB",
    "lx_assignment_type": "EXAM",
    "lx_assignment_type2print": "Exam",
    "lx_problem_cell_type": "PROBLEM",
    "lx_problem_number": "1",
    "lx_problem_points": "8"
   },
   "outputs": [
    {
     "data": {
      "text/plain": [
       "17"
      ]
     },
     "execution_count": 2,
     "metadata": {},
     "output_type": "execute_result"
    }
   ],
   "source": [
    "\n",
    "# Part 2: Give an integer between 0 and 20 which is the answer to 2.\n",
    "# problem12_T = XXX\n",
    "# 找到满足条件的最小 T\n",
    "for T, prob in enumerate(P_N_lt_10_given_Y_ge_T):\n",
    "    if prob <= 0.1:\n",
    "        T_min = T\n",
    "        break\n",
    "\n",
    "T_min\n"
   ]
  },
  {
   "cell_type": "markdown",
   "id": "ba061a0a",
   "metadata": {
    "deletable": false,
    "lx_assignment_number": "vB",
    "lx_assignment_type": "EXAM",
    "lx_assignment_type2print": "Exam",
    "lx_problem_cell_type": "PROBLEM",
    "lx_problem_number": "2",
    "lx_problem_points": "8"
   },
   "source": [
    "---\n",
    "## Exam vB, PROBLEM 2\n",
    "Maximum Points = 8"
   ]
  },
  {
   "cell_type": "markdown",
   "id": "e65bbdf6",
   "metadata": {
    "deletable": false,
    "lx_assignment_number": "vB",
    "lx_assignment_type": "EXAM",
    "lx_assignment_type2print": "Exam",
    "lx_problem_cell_type": "PROBLEM",
    "lx_problem_number": "2",
    "lx_problem_points": "8"
   },
   "source": [
    "\n",
    "## Random variable generation and transformation\n",
    "\n",
    "The purpose of this problem is to show that you can implement your own sampler, this will be built in the following three steps:\n",
    "\n",
    "1. [2p] Implement a Linear Congruential Generator where you tested out a good combination (a large $M$ with $a,b$ satisfying the Hull-Dobell (Thm 6.8)) of parameters. Follow the instructions in the code block.\n",
    "2. [2p] Using a generator construct random numbers from the uniform $[0,1]$ distribution.\n",
    "3. [4p] Using a uniform $[0,1]$ random generator, generate samples from \n",
    "\n",
    "$$p_0(x) = \\frac{\\pi}{2}|\\sin(2\\pi x)|, \\quad x \\in [0,1] \\enspace .$$\n",
    "\n",
    "Using the **Accept-Reject** sampler (**Algorithm 1** in TFDS notes) with sampling density given by the uniform $[0,1]$ distribution."
   ]
  },
  {
   "cell_type": "code",
   "execution_count": null,
   "id": "3449666b",
   "metadata": {
    "deletable": false,
    "lx_assignment_number": "vB",
    "lx_assignment_type": "EXAM",
    "lx_assignment_type2print": "Exam",
    "lx_problem_cell_type": "PROBLEM",
    "lx_problem_number": "2",
    "lx_problem_points": "8"
   },
   "outputs": [],
   "source": [
    "\n",
    "def problem2_LCG(size=None, seed = 0):\n",
    "    \"\"\"\n",
    "    A linear congruential generator that generates pseudo random numbers according to size.\n",
    "    \n",
    "    Parameters\n",
    "    -------------\n",
    "    size : an integer denoting how many samples should be produced\n",
    "    seed : the starting point of the LCG, i.e. u0 in the notes.\n",
    "    \n",
    "    Returns\n",
    "    -------------\n",
    "    out : a list of the pseudo random numbers\n",
    "    \"\"\"\n",
    "    \n",
    "    XXX\n",
    "    \n",
    "    return XXX"
   ]
  },
  {
   "cell_type": "code",
   "execution_count": 7,
   "id": "6d7ca0ed",
   "metadata": {},
   "outputs": [
    {
     "name": "stdout",
     "output_type": "stream",
     "text": [
      "[595905495, 1558181227, 1498755989, 2021244883, 887213142, 1546689008, 808633566, 888096514, 1238265880, 1419946529]\n",
      "[0.46721662416458903, 0.01366504887755264, 0.6255743683434903, 0.10033430862256061, 0.23741151962308749, 0.09146372605648996, 0.045520472827144186, 0.31874383907706655, 0.08385608907968554, 0.8172759655012172]\n"
     ]
    }
   ],
   "source": [
    "class LinearCongruentialGenerator:\n",
    "    def __init__(self, seed, a=48271, c=0, m=2**31 - 1):\n",
    "        self.seed = seed\n",
    "        self.a = a\n",
    "        self.c = c\n",
    "        self.m = m\n",
    "        self.current = seed\n",
    "    \n",
    "    def next(self):\n",
    "        self.current = (self.a * self.current + self.c) % self.m\n",
    "        return self.current\n",
    "    \n",
    "    def next_uniform(self):\n",
    "        return self.next() / self.m\n",
    "\n",
    "# 初始化 LCG\n",
    "seed = 12345\n",
    "lcg = LinearCongruentialGenerator(seed)\n",
    "\n",
    "# 生成 10 个随机数\n",
    "random_numbers = [lcg.next() for _ in range(10)]\n",
    "print(random_numbers)\n",
    "\n",
    "# 生成 10 个均匀分布在 [0, 1] 的随机数\n",
    "uniform_random_numbers = [lcg.next_uniform() for _ in range(10)]\n",
    "print(uniform_random_numbers)\n"
   ]
  },
  {
   "cell_type": "code",
   "execution_count": null,
   "id": "c7955134",
   "metadata": {
    "deletable": false,
    "lx_assignment_number": "vB",
    "lx_assignment_type": "EXAM",
    "lx_assignment_type2print": "Exam",
    "lx_problem_cell_type": "PROBLEM",
    "lx_problem_number": "2",
    "lx_problem_points": "8"
   },
   "outputs": [],
   "source": [
    "\n",
    "def problem2_uniform(generator=None, period = 1, size=None, seed=0):\n",
    "    \"\"\"\n",
    "    Takes a generator and produces samples from the uniform [0,1] distribution according\n",
    "    to size.\n",
    "    \n",
    "    Parameters\n",
    "    -------------\n",
    "    generator : a function of type generator(size,seed) and produces the same result as problem2_LCG, i.e. pseudo random numbers in the range {0,1,...,period-1}\n",
    "    period : the period of the generator\n",
    "    seed : the seed to be used in the generator provided\n",
    "    size : an integer denoting how many samples should be produced\n",
    "    \n",
    "    Returns\n",
    "    --------------\n",
    "    out : a list of the uniform pseudo random numbers\n",
    "    \"\"\"\n",
    "    \n",
    "    XXX\n",
    "    \n",
    "    return XXX"
   ]
  },
  {
   "cell_type": "code",
   "execution_count": null,
   "id": "af77a695",
   "metadata": {
    "deletable": false,
    "lx_assignment_number": "vB",
    "lx_assignment_type": "EXAM",
    "lx_assignment_type2print": "Exam",
    "lx_problem_cell_type": "PROBLEM",
    "lx_problem_number": "2",
    "lx_problem_points": "8"
   },
   "outputs": [],
   "source": [
    "\n",
    "def problem2_accept_reject(uniformGenerator=None, size=None, seed=0):\n",
    "    \"\"\"\n",
    "    Takes a generator that produces uniform pseudo random [0,1] numbers \n",
    "    and produces samples from (pi/2)*abs(sin(x*2*pi)) using an Accept-Reject\n",
    "    sampler with the uniform distribution as the proposal distribution\n",
    "    \n",
    "    Parameters\n",
    "    -------------\n",
    "    generator : a function of the type generator(size,seed) that produces uniform pseudo random\n",
    "    numbers from [0,1]\n",
    "    seed : the seed to be used in the generator provided\n",
    "    size : an integer denoting how many samples should be produced\n",
    "    \n",
    "    Returns\n",
    "    --------------\n",
    "    out : a list of the pseudo random numbers with the specified distribution\n",
    "    \"\"\"\n",
    "    \n",
    "    XXX\n",
    "    \n",
    "    return XXX"
   ]
  },
  {
   "cell_type": "code",
   "execution_count": 8,
   "id": "aa808464",
   "metadata": {},
   "outputs": [
    {
     "data": {
      "image/png": "[encoded data removed]",
      "text/plain": [
       "<Figure size 640x480 with 1 Axes>"
      ]
     },
     "metadata": {},
     "output_type": "display_data"
    }
   ],
   "source": [
    "import numpy as np\n",
    "import matplotlib.pyplot as plt\n",
    "\n",
    "def target_density(x):\n",
    "    return (np.pi / 2) * np.abs(np.sin(2 * np.pi * x))\n",
    "\n",
    "def accept_reject_sampler(num_samples):\n",
    "    samples = []\n",
    "    M = np.pi / 2  # 目标分布的上界\n",
    "    while len(samples) < num_samples:\n",
    "        x = np.random.uniform(0, 1)  # 从均匀分布中采样\n",
    "        u = np.random.uniform(0, M)  # 从均匀分布 U[0, M] 中采样\n",
    "        if u <= target_density(x):\n",
    "            samples.append(x)\n",
    "    return samples\n",
    "\n",
    "# 生成 10000 个样本\n",
    "num_samples = 10000\n",
    "samples = accept_reject_sampler(num_samples)\n",
    "\n",
    "# 绘制生成的样本的直方图\n",
    "plt.hist(samples, bins=50, density=True, alpha=0.6, color='g')\n",
    "\n",
    "# 绘制目标分布 p_0(x)\n",
    "x = np.linspace(0, 1, 1000)\n",
    "y = target_density(x)\n",
    "plt.plot(x, y, 'r-', lw=2)\n",
    "\n",
    "plt.xlabel('x')\n",
    "plt.ylabel('Density')\n",
    "plt.title('Accept-Reject Sampling from $p_0(x)$')\n",
    "plt.show()\n"
   ]
  },
  {
   "cell_type": "markdown",
   "id": "599292ac",
   "metadata": {
    "deletable": false,
    "lx_assignment_number": "vB",
    "lx_assignment_type": "EXAM",
    "lx_assignment_type2print": "Exam",
    "lx_problem_cell_type": "Test",
    "lx_problem_number": "2",
    "lx_problem_points": "8"
   },
   "source": [
    "---\n",
    "#### Local Test for Exam vB, PROBLEM 2\n",
    "Evaluate cell below to make sure your answer is valid.                             You **should not** modify anything in the cell below when evaluating it to do a local test of                             your solution.\n",
    "You may need to include and evaluate code snippets from lecture notebooks in cells above to make the local test work correctly sometimes (see error messages for clues). This is meant to help you become efficient at recalling materials covered in lectures that relate to this problem. Such local tests will generally not be available in the exam."
   ]
  },
  {
   "cell_type": "code",
   "execution_count": null,
   "id": "32c53dd8",
   "metadata": {
    "deletable": false,
    "lx_assignment_number": "vB",
    "lx_assignment_type": "EXAM",
    "lx_assignment_type2print": "Exam",
    "lx_problem_cell_type": "Test",
    "lx_problem_number": "2",
    "lx_problem_points": "8"
   },
   "outputs": [],
   "source": [
    "\n",
    "# If you managed to solve all three parts you can test the following code to see if it runs\n",
    "# you have to change the period to match your LCG though, this is marked as XXX.\n",
    "# It is a very good idea to check these things using the histogram function in sagemath\n",
    "# try with a larger number of samples, up to 10000 should run\n",
    "\n",
    "print(\"LCG output: %s\" % problem2_LCG(size=10, seed = 1))\n",
    "\n",
    "period = XXX\n",
    "\n",
    "print(\"Uniform sampler %s\" % problem2_uniform(generator=problem2_LCG, period = period, size=10, seed=1))\n",
    "\n",
    "uniform_sampler = lambda size,seed: problem2_uniform(generator=problem2_LCG, period = period, size=size, seed=seed)\n",
    "\n",
    "print(\"Accept-Reject sampler %s\" % problem2_accept_reject(uniformGenerator = uniform_sampler,n_iterations=20,seed=1))"
   ]
  },
  {
   "cell_type": "code",
   "execution_count": null,
   "id": "64b1a8c1",
   "metadata": {
    "deletable": false,
    "lx_assignment_number": "vB",
    "lx_assignment_type": "EXAM",
    "lx_assignment_type2print": "Exam",
    "lx_problem_cell_type": "Test",
    "lx_problem_number": "2",
    "lx_problem_points": "8"
   },
   "outputs": [],
   "source": [
    "\n",
    "# If however you did not manage to implement either part 1 or part 2 but still want to check part 3, you can run the code below\n",
    "\n",
    "def testUniformGenerator(size,seed):\n",
    "    set_random_seed(seed)\n",
    "    \n",
    "    return [random() for s in range(size)]\n",
    "\n",
    "print(\"Accept-Reject sampler %s\" % problem2_accept_reject(uniformGenerator=testUniformGenerator, n_iterations=20, seed=1))"
   ]
  },
  {
   "cell_type": "markdown",
   "id": "9848ffea",
   "metadata": {
    "deletable": false,
    "lx_assignment_number": "vB",
    "lx_assignment_type": "EXAM",
    "lx_assignment_type2print": "Exam",
    "lx_problem_cell_type": "PROBLEM",
    "lx_problem_number": "3",
    "lx_problem_points": "8"
   },
   "source": [
    "---\n",
    "## Exam vB, PROBLEM 3\n",
    "Maximum Points = 8"
   ]
  },
  {
   "cell_type": "markdown",
   "id": "6fe7b29f",
   "metadata": {
    "deletable": false,
    "lx_assignment_number": "vB",
    "lx_assignment_type": "EXAM",
    "lx_assignment_type2print": "Exam",
    "lx_problem_cell_type": "PROBLEM",
    "lx_problem_number": "3",
    "lx_problem_points": "8"
   },
   "source": [
    "\n",
    "## Concentration of measure\n",
    "\n",
    "As you recall, we said that concentration of measure was simply the phenomenon where we expect that the probability of a large deviation of some quantity becoming smaller as we observe more samples: [0.4 points per correct answer]\n",
    "\n",
    "1. Which of the following will exponentially concentrate, i.e. for some $C_1,C_2,C_3,C_4 $ \n",
    "$$\n",
    "    P(Z - \\mathbb{E}[Z] \\geq \\epsilon) \\leq C_1 e^{-C_2 n \\epsilon^2} \\wedge C_3 e^{-C_4 n (\\epsilon+1)} \\enspace .\n",
    "$$\n",
    "\n",
    "    1. The empirical mean of i.i.d. sub-Gaussian random variables?\n",
    "    2. The empirical mean of i.i.d. sub-Exponential random variables?\n",
    "    3. The empirical mean of i.i.d. random variables with finite variance?\n",
    "    4. The empirical variance of i.i.d. random variables with finite variance?\n",
    "    5. The empirical variance of i.i.d. sub-Gaussian random variables?\n",
    "    6. The empirical variance of i.i.d. sub-Exponential random variables?\n",
    "    7. The empirical third moment of i.i.d. sub-Gaussian random variables?\n",
    "    8. The empirical fourth moment of i.i.d. sub-Gaussian random variables?\n",
    "    9. The empirical mean of i.i.d. deterministic random variables?\n",
    "    10. The empirical tenth moment of i.i.d. Bernoulli random variables?\n",
    "\n",
    "2. Which of the above will concentrate in the weaker sense, that for some $C_1$\n",
    "$$\n",
    "    P(Z - \\mathbb{E}[Z] \\geq \\epsilon) \\leq \\frac{C_1}{n \\epsilon^2}?\n",
    "$$"
   ]
  },
  {
   "cell_type": "code",
   "execution_count": null,
   "id": "593fba5a",
   "metadata": {
    "deletable": false,
    "lx_assignment_number": "vB",
    "lx_assignment_type": "EXAM",
    "lx_assignment_type2print": "Exam",
    "lx_problem_cell_type": "PROBLEM",
    "lx_problem_number": "3",
    "lx_problem_points": "8"
   },
   "outputs": [],
   "source": [
    "\n",
    "# Answers to part 1, which of the alternatives exponentially concentrate, answer as a list\n",
    "# i.e. [1,4,5] that is example 1, 4, and 5 concentrate\n",
    "problem3_answer_1 = [1, 2]"
   ]
  },
  {
   "cell_type": "code",
   "execution_count": null,
   "id": "4a11def9",
   "metadata": {
    "deletable": false,
    "lx_assignment_number": "vB",
    "lx_assignment_type": "EXAM",
    "lx_assignment_type2print": "Exam",
    "lx_problem_cell_type": "PROBLEM",
    "lx_problem_number": "3",
    "lx_problem_points": "8"
   },
   "outputs": [],
   "source": [
    "\n",
    "# Answers to part 2, which of the alternatives concentrate in the weaker sense, answer as a list\n",
    "# i.e. [1,4,5] that is example 1, 4, and 5 concentrate\n",
    "problem3_answer_2 = [3]"
   ]
  },
  {
   "cell_type": "markdown",
   "id": "6876a583",
   "metadata": {
    "deletable": false,
    "lx_assignment_number": "vB",
    "lx_assignment_type": "EXAM",
    "lx_assignment_type2print": "Exam",
    "lx_problem_cell_type": "PROBLEM",
    "lx_problem_number": "4",
    "lx_problem_points": "8"
   },
   "source": [
    "---\n",
    "## Exam vB, PROBLEM 4\n",
    "Maximum Points = 8"
   ]
  },
  {
   "cell_type": "markdown",
   "id": "46c6266e",
   "metadata": {
    "deletable": false,
    "lx_assignment_number": "vB",
    "lx_assignment_type": "EXAM",
    "lx_assignment_type2print": "Exam",
    "lx_problem_cell_type": "PROBLEM",
    "lx_problem_number": "4",
    "lx_problem_points": "8"
   },
   "source": [
    "\n",
    "## SMS spam filtering [8p]\n",
    "\n",
    "In the following problem we will explore SMS spam texts. The dataset is the `SMS Spam Collection Dataset` and we have provided for you a way to load the data. If you run the appropriate cell below, the result will be in the `spam_no_spam` variable. The result is a `list` of `tuples` with the first position in the tuple being the SMS text and the second being a flag `0 = not spam` and `1 = spam`.\n",
    "\n",
    "1. [3p] Let $X$ be the random variable that represents each SMS text (an entry in the list), and let $Y$ represent whether text is spam or not i.e. $Y \\in \\{0,1\\}$. Thus $\\mathbb{P}(Y = 1)$ is the probability that we get a spam. The goal is to estimate:\n",
    "$$\n",
    "    \\mathbb{P}(Y = 1 | \\text{\"free\" or \"prize\" is in } X) \\enspace .\n",
    "$$\n",
    "That is, the probability that the SMS is spam given that \"free\" or \"prize\" occurs in the SMS. \n",
    "Hint: it is good to remove the upper/lower case of words so that we can also find \"Free\" and \"Prize\"; this can be done with `text.lower()` if `text` a string.\n",
    "2. [3p] Provide a \"90\\%\" interval of confidence around the true probability. I.e. use the Hoeffding inequality to obtain for your estimate $\\hat P$ of the above quantity. Find $l > 0$ such that the following holds:\n",
    "$$\n",
    "    \\mathbb{P}(\\hat P - l \\leq \\mathbb{E}[\\hat P] \\leq \\hat P + l) \\geq 0.9 \\enspace .\n",
    "$$\n",
    "3. [2p] Repeat the two exercises above for \"free\" appearing twice in the SMS."
   ]
  },
  {
   "cell_type": "code",
   "execution_count": null,
   "id": "5ab3635f",
   "metadata": {},
   "outputs": [],
   "source": [
    "# 加载数据\n",
    "from exam_extras import load_sms\n",
    "spam_no_spam = load_sms()\n",
    "\n",
    "# 计算包含 \"free\" 或 \"prize\" 的条件概率\n",
    "condition_texts = [text.lower() for text, label in spam_no_spam if \"free\" in text.lower() or \"prize\" in text.lower()]\n",
    "N_condition = len(condition_texts)\n",
    "N_spam = sum(1 for text, label in spam_no_spam if (\"free\" in text.lower() or \"prize\" in text.lower()) and label == 1)\n",
    "\n",
    "# 估计条件概率\n",
    "problem4_hatP = N_spam / N_condition if N_condition > 0 else 0\n",
    "\n",
    "# 计算90%的置信区间\n",
    "import math\n",
    "\n",
    "N = N_condition  # 样本量\n",
    "delta = 0.1  # 1 - 置信水平\n",
    "problem4_l = math.sqrt(math.log(2 / delta) / (2 * N))  # Hoeffding不等式的l值\n",
    "\n",
    "# 计算包含 \"free\" 至少两次的条件概率\n",
    "condition_texts2 = [text.lower() for text, label in spam_no_spam if text.lower().count(\"free\") >= 2]\n",
    "N_condition2 = len(condition_texts2)\n",
    "N_spam2 = sum(1 for text, label in spam_no_spam if text.lower().count(\"free\") >= 2 and label == 1)\n",
    "\n",
    "# 估计条件概率\n",
    "problem4_hatP2 = N_spam2 / N_condition2 if N_condition2 > 0 else 0\n",
    "\n",
    "# 计算90%的置信区间\n",
    "N2 = N_condition2  # 样本量\n",
    "problem4_l2 = math.sqrt(math.log(2 / delta) / (2 * N2))  # Hoeffding不等式的l值\n",
    "\n",
    "(problem4_hatP, problem4_l, problem4_hatP2, problem4_l2)\n"
   ]
  },
  {
   "cell_type": "code",
   "execution_count": null,
   "id": "6cd7e15d",
   "metadata": {},
   "outputs": [],
   "source": [
    "# 加载数据\n",
    "from exam_extras import load_sms\n",
    "spam_no_spam = load_sms()\n",
    "\n",
    "# 使用numpy计算\n",
    "import numpy as np\n",
    "\n",
    "# 计算包含 \"free\" 或 \"prize\" 的条件概率\n",
    "condition_texts = [(text.lower(), label) for text, label in spam_no_spam if \"free\" in text.lower() or \"prize\" in text.lower()]\n",
    "N_condition = len(condition_texts)\n",
    "N_spam = np.sum([label for text, label in condition_texts])\n",
    "\n",
    "# 估计条件概率\n",
    "problem4_hatP = N_spam / N_condition if N_condition > 0 else 0\n",
    "\n",
    "# 计算90%的置信区间\n",
    "delta = 0.1  # 1 - 置信水平\n",
    "problem4_l = np.sqrt(np.log(2 / delta) / (2 * N_condition))  # Hoeffding不等式的l值\n",
    "\n",
    "# 计算包含 \"free\" 至少两次的条件概率\n",
    "condition_texts2 = [(text.lower(), label) for text, label in spam_no_spam if text.lower().count(\"free\") >= 2]\n",
    "N_condition2 = len(condition_texts2)\n",
    "N_spam2 = np.sum([label for text, label in condition_texts2])\n",
    "\n",
    "# 估计条件概率\n",
    "problem4_hatP2 = N_spam2 / N_condition2 if N_condition2 > 0 else 0\n",
    "\n",
    "# 计算90%的置信区间\n",
    "problem4_l2 = np.sqrt(np.log(2 / delta) / (2 * N_condition2))  # Hoeffding不等式的l值\n",
    "\n",
    "problem4_hatP, problem4_l, problem4_hatP2, problem4_l2\n"
   ]
  },
  {
   "cell_type": "code",
   "execution_count": null,
   "id": "0c86b4ce",
   "metadata": {
    "deletable": false,
    "lx_assignment_number": "vB",
    "lx_assignment_type": "EXAM",
    "lx_assignment_type2print": "Exam",
    "lx_problem_cell_type": "PROBLEM",
    "lx_problem_number": "4",
    "lx_problem_points": "8"
   },
   "outputs": [],
   "source": [
    "\n",
    "# Run this cell to get the SMS text data\n",
    "from exam_extras import load_sms\n",
    "spam_no_spam = load_sms()"
   ]
  },
  {
   "cell_type": "code",
   "execution_count": null,
   "id": "3da0f279",
   "metadata": {
    "deletable": false,
    "lx_assignment_number": "vB",
    "lx_assignment_type": "EXAM",
    "lx_assignment_type2print": "Exam",
    "lx_problem_cell_type": "PROBLEM",
    "lx_problem_number": "4",
    "lx_problem_points": "8"
   },
   "outputs": [],
   "source": [
    "\n",
    "# fill in the estimate for part 1 here (should be a number between 0 and 1)\n",
    "problem4_hatP = XXX"
   ]
  },
  {
   "cell_type": "code",
   "execution_count": null,
   "id": "8c72cc4e",
   "metadata": {
    "deletable": false,
    "lx_assignment_number": "vB",
    "lx_assignment_type": "EXAM",
    "lx_assignment_type2print": "Exam",
    "lx_problem_cell_type": "PROBLEM",
    "lx_problem_number": "4",
    "lx_problem_points": "8"
   },
   "outputs": [],
   "source": [
    "\n",
    "# fill in the calculated l from part 2 here\n",
    "problem4_l = XXX"
   ]
  },
  {
   "cell_type": "code",
   "execution_count": null,
   "id": "b100e5ea",
   "metadata": {
    "deletable": false,
    "lx_assignment_number": "vB",
    "lx_assignment_type": "EXAM",
    "lx_assignment_type2print": "Exam",
    "lx_problem_cell_type": "PROBLEM",
    "lx_problem_number": "4",
    "lx_problem_points": "8"
   },
   "outputs": [],
   "source": [
    "\n",
    "# fill in the estimate for hatP for the double free question in part 3 here (should be a number between 0 and 1)\n",
    "problem4_hatP2 = XXX"
   ]
  },
  {
   "cell_type": "code",
   "execution_count": null,
   "id": "8d19289d",
   "metadata": {
    "deletable": false,
    "lx_assignment_number": "vB",
    "lx_assignment_type": "EXAM",
    "lx_assignment_type2print": "Exam",
    "lx_problem_cell_type": "PROBLEM",
    "lx_problem_number": "4",
    "lx_problem_points": "8"
   },
   "outputs": [],
   "source": [
    "\n",
    "# fill in the estimate for l for the double free question in part 3 here\n",
    "problem4_l2 = XXX"
   ]
  },
  {
   "cell_type": "markdown",
   "id": "34a7d777",
   "metadata": {
    "deletable": false,
    "lx_assignment_number": "vB",
    "lx_assignment_type": "EXAM",
    "lx_assignment_type2print": "Exam",
    "lx_problem_cell_type": "PROBLEM",
    "lx_problem_number": "5",
    "lx_problem_points": "8"
   },
   "source": [
    "---\n",
    "## Exam vB, PROBLEM 5\n",
    "Maximum Points = 8"
   ]
  },
  {
   "cell_type": "markdown",
   "id": "2d7e686c",
   "metadata": {
    "deletable": false,
    "lx_assignment_number": "vB",
    "lx_assignment_type": "EXAM",
    "lx_assignment_type2print": "Exam",
    "lx_problem_cell_type": "PROBLEM",
    "lx_problem_number": "5",
    "lx_problem_points": "8"
   },
   "source": [
    "\n",
    "## Markovian travel\n",
    "\n",
    "The dataset `Travel Dataset - Datathon 2019` is a simulated dataset designed to mimic real corporate travel systems -- focusing on flights and hotels. The file is at `data/flights.csv` in the same folder as `Exam.ipynb`, i.e. you can use the path `data/flights.csv` from the notebook to access the file.\n",
    "\n",
    "1. [2p] In the first code-box \n",
    "    1. Load the csv from file `data/flights.csv`\n",
    "    2. Fill in the value of the variables as specified by their names.\n",
    "2. [2p] In the second code-box your goal is to estimate a Markov chain transition matrix for the travels of these users. For example, if we enumerate the cities according to alphabetical order, the first city `'Aracaju (SE)'` would correspond to $0$. Each row of the file corresponds to one flight, i.e. it has a starting city and an ending city. We model this as a stationary Markov chain, i.e. each user's travel trajectory is a realization of the Markov chain, $X_t$. Here, $X_t$ is the current city the user is at, at step $t$, and $X_{t+1}$ is the city the user travels to at the next time step. This means that to each row in the file there is a corresponding pair $(X_{t},X_{t+1})$. The stationarity assumption gives that for all $t$ there is a transition density $p$ such that $P(X_{t+1} = y | X_t = x) = p(x,y)$ (for all $x,y$). The transition matrix should be `n_cities` x `n_citites` in size.\n",
    "3. [2p] Use the transition matrix to compute out the stationary distribution.\n",
    "4. [2p] Given that we start in 'Aracaju (SE)' what is the probability that after 3 steps we will be back in 'Aracaju (SE)'?"
   ]
  },
  {
   "cell_type": "code",
   "execution_count": null,
   "id": "ae50be9c",
   "metadata": {
    "deletable": false,
    "lx_assignment_number": "vB",
    "lx_assignment_type": "EXAM",
    "lx_assignment_type2print": "Exam",
    "lx_problem_cell_type": "PROBLEM",
    "lx_problem_number": "5",
    "lx_problem_points": "8"
   },
   "outputs": [],
   "source": [
    "# 获取起点和终点城市的唯一值\n",
    "start_cities = flights_df['start_city'].unique()\n",
    "end_cities = flights_df['end_city'].unique()\n",
    "\n",
    "# 合并起点和终点城市，获取所有唯一城市\n",
    "all_cities = set(start_cities).union(set(end_cities))\n",
    "number_of_cities = len(all_cities)\n",
    "\n",
    "# 显示城市数量和城市列表\n",
    "print(f\"城市数量: {number_of_cities}\")\n",
    "print(f\"所有城市: {all_cities}\")\n",
    "number_of_cities = XXX\n",
    "number_of_userCodes = XXX\n",
    "number_of_observations = XXX"
   ]
  },
  {
   "cell_type": "code",
   "execution_count": null,
   "id": "74b2cd78",
   "metadata": {
    "deletable": false,
    "lx_assignment_number": "vB",
    "lx_assignment_type": "EXAM",
    "lx_assignment_type2print": "Exam",
    "lx_problem_cell_type": "PROBLEM",
    "lx_problem_number": "5",
    "lx_problem_points": "8"
   },
   "outputs": [],
   "source": [
    "\n",
    "# This is a very useful function that you can use for part 2. You have seen this before when parsing the\n",
    "# pride and prejudice book.\n",
    "\n",
    "def makeFreqDict(myDataList):\n",
    "    '''Make a frequency mapping out of a list of data.\n",
    "\n",
    "    Param myDataList, a list of data.\n",
    "    Return a dictionary mapping each unique data value to its frequency count.'''\n",
    "\n",
    "    freqDict = {} # start with an empty dictionary\n",
    "\n",
    "    for res in myDataList:\n",
    "        if res in freqDict: # the data value already exists as a key\n",
    "                freqDict[res] = freqDict[res] + 1 # add 1 to the count using sage integers\n",
    "        else: # the data value does not exist as a key value\n",
    "            freqDict[res] = 1 # add a new key-value pair for this new data value, frequency 1\n",
    "\n",
    "    return freqDict # return the dictionary created"
   ]
  },
  {
   "cell_type": "code",
   "execution_count": null,
   "id": "c915bb7b",
   "metadata": {},
   "outputs": [],
   "source": [
    "# 提取所有的城市对\n",
    "city_pairs = [(city_to_index[row['start_city']], city_to_index[row['end_city']]) for _, row in flights_df.iterrows()]\n",
    "\n",
    "# 计算频率字典\n",
    "def makeFreqDict(myDataList):\n",
    "    freqDict = {}  # 创建一个空字典\n",
    "\n",
    "    for res in myDataList:\n",
    "        if res in freqDict:  # 如果数据值已经存在于字典中\n",
    "            freqDict[res] = freqDict[res] + 1  # 将计数加1\n",
    "        else:  # 如果数据值不存在于字典中\n",
    "            freqDict[res] = 1  # 为这个新数据值添加一个新的键值对，频率为1\n",
    "\n",
    "    return freqDict  # 返回创建的字典\n",
    "\n",
    "freq_dict = makeFreqDict(city_pairs)\n"
   ]
  },
  {
   "cell_type": "code",
   "execution_count": null,
   "id": "2f981478",
   "metadata": {},
   "outputs": [],
   "source": [
    "import numpy as np\n",
    "\n",
    "# 初始化转移矩阵\n",
    "transition_matrix = np.zeros((n_cities, n_cities))\n",
    "\n",
    "# 提取所有的城市对\n",
    "city_pairs = [(city_to_index[row['start_city']], city_to_index[row['end_city']]) for _, row in flights_df.iterrows()]\n",
    "\n",
    "# 计算频率字典\n",
    "freq_dict = makeFreqDict(city_pairs)\n",
    "\n",
    "# 填充转移矩阵\n",
    "for (start_idx, end_idx), count in freq_dict.items():\n",
    "    transition_matrix[start_idx, end_idx] = count\n",
    "\n",
    "# 归一化转移矩阵\n",
    "transition_matrix = transition_matrix / transition_matrix.sum(axis=1, keepdims=True)\n",
    "\n",
    "# 显示转移矩阵\n",
    "print(\"转移矩阵:\")\n",
    "print(transition_matrix)\n"
   ]
  },
  {
   "cell_type": "code",
   "execution_count": null,
   "id": "ddfee1fd",
   "metadata": {
    "deletable": false,
    "lx_assignment_number": "vB",
    "lx_assignment_type": "EXAM",
    "lx_assignment_type2print": "Exam",
    "lx_problem_cell_type": "PROBLEM",
    "lx_problem_number": "5",
    "lx_problem_points": "8"
   },
   "outputs": [],
   "source": [
    "\n",
    "cities = XXX\n",
    "unique_cities = sorted(set(cities)) # The unique cities\n",
    "n_cities = len(unique_cities) # The number of unique citites\n",
    "\n",
    "# Count the different transitions\n",
    "transitions = XXX # A list containing tuples ex: ('Aracaju (SE)','Rio de Janeiro (RJ)') of all transitions in the text\n",
    "transition_counts = XXX # A dictionary that counts the number of each transition \n",
    "# ex: ('Aracaju (SE)','Rio de Janeiro (RJ)'):4\n",
    "indexToCity = XXX # A dictionary that maps the n-1 number to the n:th unique_city,\n",
    "# ex: 0:'Aracaju (SE)'\n",
    "cityToIndex = XXX # The inverse function of indexToWord, \n",
    "# ex: 'Aracaju (SE)':0\n",
    "\n",
    "# Part 3, finding the maximum likelihood estimate of the transition matrix\n",
    "\n",
    "transition_matrix = XXX # a numpy array of size (n_cities,n_cities)\n",
    "\n",
    "# The transition matrix should be ordered in such a way that\n",
    "# p_{'Aracaju (SE)','Rio de Janeiro (RJ)'} = transition_matrix[cityToIndex['Aracaju (SE)'],cityToIndex['Rio de Janeiro (RJ)']]\n",
    "# and represents the probability of travelling Aracaju (SE)->Rio de Janeiro (RJ)\n",
    "\n",
    "# Make sure that the transition_matrix does not contain np.nan from division by zero for instance"
   ]
  },
  {
   "cell_type": "code",
   "execution_count": null,
   "id": "b2053f5d",
   "metadata": {
    "deletable": false,
    "lx_assignment_number": "vB",
    "lx_assignment_type": "EXAM",
    "lx_assignment_type2print": "Exam",
    "lx_problem_cell_type": "PROBLEM",
    "lx_problem_number": "5",
    "lx_problem_points": "8"
   },
   "outputs": [],
   "source": [
    "\n",
    "# This should be a numpy array of length n_cities which sums to 1 and is all positive\n",
    "\n",
    "stationary_distribution_problem5 = XXX"
   ]
  },
  {
   "cell_type": "code",
   "execution_count": null,
   "id": "a9b10afd",
   "metadata": {
    "deletable": false,
    "lx_assignment_number": "vB",
    "lx_assignment_type": "EXAM",
    "lx_assignment_type2print": "Exam",
    "lx_problem_cell_type": "PROBLEM",
    "lx_problem_number": "5",
    "lx_problem_points": "8"
   },
   "outputs": [],
   "source": [
    "\n",
    "# Compute the return probability for part 3 of problem 5\n",
    "\n",
    "return_probability_problem5 = XXX"
   ]
  },
  {
   "cell_type": "code",
   "execution_count": null,
   "id": "0dcedcb1",
   "metadata": {},
   "outputs": [],
   "source": [
    "import numpy as np\n",
    "\n",
    "# 2. 提取转移并计算转移频率\n",
    "transitions = [(row['start_city'], row['end_city']) for _, row in flights_data.iterrows()]\n",
    "\n",
    "# 创建频率字典\n",
    "def makeFreqDict(myDataList):\n",
    "    freqDict = {}\n",
    "    for res in myDataList:\n",
    "        if res in freqDict:\n",
    "            freqDict[res] = freqDict[res] + 1\n",
    "        else:\n",
    "            freqDict[res] = 1\n",
    "    return freqDict\n",
    "\n",
    "transition_counts = makeFreqDict(transitions)\n",
    "\n",
    "# 定义字典来将城市映射到索引和反向映射\n",
    "indexToCity = {i: city for i, city in enumerate(unique_cities)}\n",
    "cityToIndex = {city: i for i, city in enumerate(unique_cities)}\n",
    "\n",
    "# 计算最大似然估计的转移矩阵\n",
    "transition_matrix = np.zeros((n_cities, n_cities))\n",
    "\n",
    "for (start, end), count in transition_counts.items():\n",
    "    i, j = cityToIndex[start], cityToIndex[end]\n",
    "    transition_matrix[i, j] = count\n",
    "\n",
    "# 将转移矩阵中的每一行归一化\n",
    "transition_matrix = transition_matrix / transition_matrix.sum(axis=1, keepdims=True)\n",
    "\n",
    "# 确保转移矩阵不包含np.nan值\n",
    "transition_matrix = np.nan_to_num(transition_matrix)\n"
   ]
  },
  {
   "cell_type": "code",
   "execution_count": null,
   "id": "8ae8800a",
   "metadata": {},
   "outputs": [],
   "source": [
    "# 3. 计算平稳分布\n",
    "eigvals, eigvecs = np.linalg.eig(transition_matrix.T)\n",
    "stationary_distribution = np.real(eigvecs[:, np.isclose(eigvals, 1)])\n",
    "stationary_distribution = stationary_distribution / stationary_distribution.sum()\n",
    "stationary_distribution = stationary_distribution.flatten()\n",
    "stationary_distribution_problem5 = stationary_distribution\n"
   ]
  },
  {
   "cell_type": "code",
   "execution_count": null,
   "id": "e66aa4d7",
   "metadata": {},
   "outputs": [],
   "source": [
    "# 4. 计算从'Aracaju (SE)'开始，经过3步后回到'Aracaju (SE)'的概率\n",
    "initial_distribution = np.zeros(n_cities)\n",
    "initial_distribution[cityToIndex['Aracaju (SE)']] = 1\n",
    "\n",
    "probability_3_steps = np.linalg.matrix_power(transition_matrix, 3)\n",
    "return_probability_problem5 = probability_3_steps[cityToIndex['Aracaju (SE)'], cityToIndex['Aracaju (SE)']]\n",
    "\n",
    "return_probability_problem5\n"
   ]
  },
  {
   "cell_type": "markdown",
   "id": "31083a19",
   "metadata": {
    "deletable": false,
    "lx_assignment_number": "vB",
    "lx_assignment_type": "EXAM",
    "lx_assignment_type2print": "Exam",
    "lx_problem_cell_type": "Test",
    "lx_problem_number": "5",
    "lx_problem_points": "8"
   },
   "source": [
    "---\n",
    "#### Local Test for Exam vB, PROBLEM 5\n",
    "Evaluate cell below to make sure your answer is valid.                             You **should not** modify anything in the cell below when evaluating it to do a local test of                             your solution.\n",
    "You may need to include and evaluate code snippets from lecture notebooks in cells above to make the local test work correctly sometimes (see error messages for clues). This is meant to help you become efficient at recalling materials covered in lectures that relate to this problem. Such local tests will generally not be available in the exam."
   ]
  },
  {
   "cell_type": "code",
   "execution_count": null,
   "id": "5c51e7c9",
   "metadata": {
    "deletable": false,
    "lx_assignment_number": "vB",
    "lx_assignment_type": "EXAM",
    "lx_assignment_type2print": "Exam",
    "lx_problem_cell_type": "Test",
    "lx_problem_number": "5",
    "lx_problem_points": "8"
   },
   "outputs": [],
   "source": [
    "# Once you have created all your functions, you can make a small test here to see\n",
    "# what would be generated from your model.\n",
    "import numpy as np\n",
    "\n",
    "start = np.zeros(shape=(n_cities,1))\n",
    "start[cityToIndex['Aracaju (SE)'],0] = 1\n",
    "\n",
    "current_pos = start\n",
    "for i in range(10):\n",
    "    random_word_index = np.random.choice(range(n_cities),p=current_pos.reshape(-1))\n",
    "    current_pos = np.zeros_like(start)\n",
    "    current_pos[random_word_index] = 1\n",
    "    print(indexToCity[random_word_index],end='->')\n",
    "    current_pos = (current_pos.T@transition_matrix).T"
   ]
  },
  {
   "cell_type": "markdown",
   "id": "c69d372c",
   "metadata": {
    "deletable": false,
    "lx_assignment_number": "vB",
    "lx_assignment_type": "EXAM",
    "lx_assignment_type2print": "Exam",
    "lx_problem_cell_type": "PROBLEM",
    "lx_problem_number": "6",
    "lx_problem_points": "8"
   },
   "source": [
    "---\n",
    "## Exam vB, PROBLEM 6\n",
    "Maximum Points = 8"
   ]
  },
  {
   "cell_type": "markdown",
   "id": "fbb4571e",
   "metadata": {
    "deletable": false,
    "lx_assignment_number": "vB",
    "lx_assignment_type": "EXAM",
    "lx_assignment_type2print": "Exam",
    "lx_problem_cell_type": "PROBLEM",
    "lx_problem_number": "6",
    "lx_problem_points": "8"
   },
   "source": [
    "\n",
    "## Black box testing\n",
    "\n",
    "In the following problem we will continue with our SMS spam / nospam data. This time we will try to approach the problem as a pattern recognition problem. For this particular problem I have provided you with everything -- data is prepared, split into train-test sets and a black-box model has been fitted on the training data and predicted on the test data. Your goal is to calculate test metrics and provide guarantees for each metric.\n",
    "\n",
    "1. [2p] Compute precision for class 1 (see notes 8.3.2 for definition), then provide an interval using Hoeffding's inequality for a 95\\% confidence.\n",
    "2. [2p] Compute recall for class 1(see notes 8.3.2 for definition), then provide an interval using Hoeffding's inequality for a 95\\% interval.\n",
    "3. [2p] Compute accuracy (0-1 loss), then provide an interval using Hoeffding's inequality for a 95\\% interval.\n",
    "4. [2p] If we would have used a classifier with VC-dimension 3, would we have obtained a smaller interval for accuracy by using all data?"
   ]
  },
  {
   "cell_type": "code",
   "execution_count": null,
   "id": "9760213e",
   "metadata": {},
   "outputs": [],
   "source": [
    "import exam_extras\n",
    "from exam_extras import load_sms_problem6\n",
    "import numpy as np\n",
    "from sklearn.metrics import precision_score, recall_score, accuracy_score\n",
    "from math import sqrt, log\n",
    "\n",
    "# 加载数据，分割训练集和测试集，并运行\"黑盒\"算法\n",
    "X_problem6, Y_problem6 = load_sms_problem6()\n",
    "X_train_problem6, X_test_problem6, Y_train_problem6, Y_test_problem6 = exam_extras.train_test_split(X_problem6, Y_problem6)\n",
    "predictions_problem6 = exam_extras.knn_predictions(X_train_problem6, Y_train_problem6, X_test_problem6, k=4)\n",
    "\n",
    "# 计算class 1的precision\n",
    "problem6_precision = precision_score(Y_test_problem6, predictions_problem6, pos_label=1)\n",
    "\n",
    "# 计算Hoeffding's inequality下95%置信区间的区间长度\n",
    "n = len(Y_test_problem6)\n",
    "epsilon_precision = sqrt(log(2 / 0.05) / (2 * n))\n",
    "problem6_precision_l = (problem6_precision - epsilon_precision, problem6_precision + epsilon_precision)\n"
   ]
  },
  {
   "cell_type": "code",
   "execution_count": 1,
   "id": "6f8148a9",
   "metadata": {
    "deletable": false,
    "jupyter": {
     "source_hidden": false
    },
    "lx_assignment_number": "vB",
    "lx_assignment_type": "EXAM",
    "lx_assignment_type2print": "Exam",
    "lx_problem_cell_type": "PROBLEM",
    "lx_problem_number": "6",
    "lx_problem_points": "8"
   },
   "outputs": [],
   "source": [
    "\n",
    "# The code below will load data, split the data into train and test and run a \"black box\" algorithm on it\n",
    "# the result of the \"black box\" is stored in predictions_problem6, the true values will be stored in\n",
    "# Y_test_problem6\n",
    "import exam_extras\n",
    "from exam_extras import load_sms_problem6\n",
    "X_problem6, Y_problem6 = load_sms_problem6()\n",
    "\n",
    "X_train_problem6,X_test_problem6,Y_train_problem6,Y_test_problem6 = exam_extras.train_test_split(X_problem6,Y_problem6)\n",
    "predictions_problem6 = exam_extras.knn_predictions(X_train_problem6,Y_train_problem6,X_test_problem6,k=4)"
   ]
  },
  {
   "cell_type": "code",
   "execution_count": null,
   "id": "650fd537",
   "metadata": {},
   "outputs": [],
   "source": [
    "# VC维度为3的分类器在使用所有数据时的区间长度\n",
    "# 设VC维度d = 3\n",
    "d = 3\n",
    "epsilon_vc = sqrt((8 / n) * log((4 * ((2 * n) ** d + 1)) / 0.05))\n",
    "problem6_VC_l = (problem6_accuracy - epsilon_vc, problem6_accuracy + epsilon_vc)\n",
    "\n",
    "# 判断新的区间是否更小\n",
    "problem6_VC_smaller = epsilon_vc < epsilon_accuracy\n"
   ]
  },
  {
   "cell_type": "code",
   "execution_count": null,
   "id": "25f59dcd",
   "metadata": {
    "deletable": false,
    "lx_assignment_number": "vB",
    "lx_assignment_type": "EXAM",
    "lx_assignment_type2print": "Exam",
    "lx_problem_cell_type": "PROBLEM",
    "lx_problem_number": "6",
    "lx_problem_points": "8"
   },
   "outputs": [],
   "source": [
    "\n",
    "# Compute the precision of predictions_problem6 with respect to Y_test_problem6\n",
    "problem6_precision = XXX"
   ]
  },
  {
   "cell_type": "code",
   "execution_count": null,
   "id": "8737fd58",
   "metadata": {
    "deletable": false,
    "lx_assignment_number": "vB",
    "lx_assignment_type": "EXAM",
    "lx_assignment_type2print": "Exam",
    "lx_problem_cell_type": "PROBLEM",
    "lx_problem_number": "6",
    "lx_problem_points": "8"
   },
   "outputs": [],
   "source": [
    "\n",
    "# Compute the interval length l of precision of predictions_problem6 with respect to Y_test_problem6, with the same definition of l as in problem 4\n",
    "problem6_precision_l = XXX"
   ]
  },
  {
   "cell_type": "code",
   "execution_count": null,
   "id": "9bbb2ebc",
   "metadata": {
    "deletable": false,
    "lx_assignment_number": "vB",
    "lx_assignment_type": "EXAM",
    "lx_assignment_type2print": "Exam",
    "lx_problem_cell_type": "PROBLEM",
    "lx_problem_number": "6",
    "lx_problem_points": "8"
   },
   "outputs": [],
   "source": [
    "\n",
    "# Repeat the same procedure but for recall\n",
    "problem6_recall = XXX"
   ]
  },
  {
   "cell_type": "code",
   "execution_count": null,
   "id": "d18b6f78",
   "metadata": {
    "deletable": false,
    "lx_assignment_number": "vB",
    "lx_assignment_type": "EXAM",
    "lx_assignment_type2print": "Exam",
    "lx_problem_cell_type": "PROBLEM",
    "lx_problem_number": "6",
    "lx_problem_points": "8"
   },
   "outputs": [],
   "source": [
    "\n",
    "problem6_recall_l = XXX"
   ]
  },
  {
   "cell_type": "code",
   "execution_count": null,
   "id": "83ade7dd",
   "metadata": {
    "deletable": false,
    "lx_assignment_number": "vB",
    "lx_assignment_type": "EXAM",
    "lx_assignment_type2print": "Exam",
    "lx_problem_cell_type": "PROBLEM",
    "lx_problem_number": "6",
    "lx_problem_points": "8"
   },
   "outputs": [],
   "source": [
    "\n",
    "# Repeat the same procedure but for accuracy or 0-1 loss\n",
    "problem6_accuracy = XXX"
   ]
  },
  {
   "cell_type": "code",
   "execution_count": null,
   "id": "206e2b11",
   "metadata": {
    "deletable": false,
    "lx_assignment_number": "vB",
    "lx_assignment_type": "EXAM",
    "lx_assignment_type2print": "Exam",
    "lx_problem_cell_type": "PROBLEM",
    "lx_problem_number": "6",
    "lx_problem_points": "8"
   },
   "outputs": [],
   "source": [
    "\n",
    "problem6_accuracy_l = XXX"
   ]
  },
  {
   "cell_type": "code",
   "execution_count": null,
   "id": "df926281",
   "metadata": {
    "deletable": false,
    "lx_assignment_number": "vB",
    "lx_assignment_type": "EXAM",
    "lx_assignment_type2print": "Exam",
    "lx_problem_cell_type": "PROBLEM",
    "lx_problem_number": "6",
    "lx_problem_points": "8"
   },
   "outputs": [],
   "source": [
    "\n",
    "# Below you will calculate the interval parameter l for a classifier running on all data with a VC dimension of 3\n",
    "# put the value in problem6_VC_l and answer problem_VC_smaller as True if the interval is smaller than the test-accuracy above\n",
    "# if not answer False. Make sure you replace XXX with something even if you only answer one of them.\n",
    "problem6_VC_l = XXX # number\n",
    "problem6_VC_smaller = XXX #True / False"
   ]
  }
 ],
 "metadata": {
  "kernelspec": {
   "display_name": "base",
   "language": "python",
   "name": "python3"
  },
  "language_info": {
   "codemirror_mode": {
    "name": "ipython",
    "version": 3
   },
   "file_extension": ".py",
   "mimetype": "text/x-python",
   "name": "python",
   "nbconvert_exporter": "python",
   "pygments_lexer": "ipython3",
   "version": "3.9.7"
  },
  "lx_assignment_number": "vB",
  "lx_course_instance": "2022",
  "lx_course_name": "Introduction to Data Science",
  "lx_course_number": "1MS041"
 },
 "nbformat": 4,
 "nbformat_minor": 5
}
